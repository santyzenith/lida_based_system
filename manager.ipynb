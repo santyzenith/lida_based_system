{
 "cells": [
  {
   "cell_type": "code",
   "execution_count": 1,
   "id": "1615c6d1-a45c-4f11-a739-a8e45ebc5fa5",
   "metadata": {},
   "outputs": [
    {
     "data": {
      "text/plain": [
       "28"
      ]
     },
     "execution_count": 1,
     "metadata": {},
     "output_type": "execute_result"
    }
   ],
   "source": [
    "4*7"
   ]
  },
  {
   "cell_type": "code",
   "execution_count": 2,
   "id": "08175714-e1f6-4120-85fc-d9c9372e5f1d",
   "metadata": {},
   "outputs": [],
   "source": [
    "import pandas as pd\n",
    "from components import component_utils, llm_utils, utils\n",
    "from components.summarizer import Summarizer\n",
    "\n",
    "my_config = utils.load_config()\n",
    "my_config, my_client = llm_utils.load_llm_client(my_config)\n",
    "data_path = \"data/Worlds Best 50 Hotels.csv\"\n",
    "encoding = \"latin-1\"\n",
    "# data_path = \"data/muestra_datos_comex_ec.csv\"\n",
    "# encoding = \"utf-8\""
   ]
  },
  {
   "cell_type": "code",
   "execution_count": 3,
   "id": "c48fe963-10ff-4abf-8276-31fc3c357524",
   "metadata": {},
   "outputs": [],
   "source": [
    "summ = Summarizer()\n",
    "llm_summ = summ.summarize(data_path, \n",
    "                          my_config, \n",
    "                          my_client, \n",
    "                          encoding=encoding,\n",
    "                          summary_method=\"llm\")"
   ]
  },
  {
   "cell_type": "code",
   "execution_count": 5,
   "id": "cd7692ff-7403-4d66-9368-158ec15fbbfe",
   "metadata": {},
   "outputs": [],
   "source": [
    "from components.goal import GoalExplorer\n",
    "\n",
    "goal = GoalExplorer()\n",
    "llm_goals = goal.generate(llm_summ,\n",
    "                          my_config,\n",
    "                          my_client,\n",
    "                          n=3\n",
    "                         )"
   ]
  },
  {
   "cell_type": "code",
   "execution_count": 6,
   "id": "b55f1e90-ed4b-4a63-99a8-8c6f0191f4e3",
   "metadata": {},
   "outputs": [
    {
     "data": {
      "text/plain": [
       "{'goals': [{'index': 0,\n",
       "   'question': '¿Cuál es la distribución de las tarifas iniciales de los hoteles?',\n",
       "   'visualization': 'histograma de la columna \"Starting_Rate_in____\"',\n",
       "   'rationale': 'Esta visualización nos muestra la distribución de las tarifas iniciales de los hoteles, lo que nos permite comprender mejor la variabilidad de estos precios.'},\n",
       "  {'index': 1,\n",
       "   'question': '¿Cuál es la relación entre el número de habitaciones y la ubicación de los hoteles?',\n",
       "   'visualization': 'mapa de calor de la columna \"Location\" vs la columna \"Total_Rooms\"',\n",
       "   'rationale': 'Esta visualización nos permite identificar patrones en la relación entre el número de habitaciones y la ubicación de los hoteles, lo que nos puede ayudar a entender mejor las tendencias de la industria.'},\n",
       "  {'index': 2,\n",
       "   'question': '¿Cuáles son las características más comunes de los hoteles de alta categoría?',\n",
       "   'visualization': 'clusterización de la columna \"Hotel_Ammenties\"',\n",
       "   'rationale': 'Esta visualización nos permite identificar patrones en las características de los hoteles de alta categoría, lo que nos puede ayudar a entender mejor qué características son más comunes en estos hoteles y cómo pueden ser utilizadas para mejorar la experiencia del cliente.'}]}"
      ]
     },
     "execution_count": 6,
     "metadata": {},
     "output_type": "execute_result"
    }
   ],
   "source": [
    "llm_goals"
   ]
  },
  {
   "cell_type": "code",
   "execution_count": 4,
   "id": "5441188c-22c6-422e-a2ad-7f1ac58407a4",
   "metadata": {},
   "outputs": [],
   "source": [
    "#llm_enriched_df = utils.summarize_properties_to_df(llm_summ[\"fields\"])"
   ]
  },
  {
   "cell_type": "code",
   "execution_count": 6,
   "id": "0bf9a31b-0712-4a76-8635-e2c891e12748",
   "metadata": {},
   "outputs": [],
   "source": [
    "#llm_enriched_df.to_excel(\"enriched_muestra_comex.xlsx\", index=False)"
   ]
  },
  {
   "cell_type": "code",
   "execution_count": 8,
   "id": "c186d2e0-3ce3-4827-95e5-05cd3fc9f2a2",
   "metadata": {},
   "outputs": [],
   "source": [
    "a = \"import numpy as np \\n\\nprnt('hola mundo')\""
   ]
  },
  {
   "cell_type": "code",
   "execution_count": 9,
   "id": "984122f3-c15d-4bd1-a5f1-50deb3554df5",
   "metadata": {},
   "outputs": [
    {
     "name": "stdout",
     "output_type": "stream",
     "text": [
      "import numpy as np \n",
      "\n",
      "prnt('hola mundo')\n"
     ]
    }
   ],
   "source": [
    "print(a)"
   ]
  },
  {
   "cell_type": "code",
   "execution_count": 10,
   "id": "ba19ceb3-7639-40bc-b910-1a1ebf41d0c0",
   "metadata": {},
   "outputs": [
    {
     "ename": "NameError",
     "evalue": "name 'prnt' is not defined",
     "output_type": "error",
     "traceback": [
      "\u001b[0;31m---------------------------------------------------------------------------\u001b[0m",
      "\u001b[0;31mNameError\u001b[0m                                 Traceback (most recent call last)",
      "Cell \u001b[0;32mIn[10], line 1\u001b[0m\n\u001b[0;32m----> 1\u001b[0m \u001b[43mexec\u001b[49m\u001b[43m(\u001b[49m\u001b[43ma\u001b[49m\u001b[43m)\u001b[49m\n",
      "File \u001b[0;32m<string>:3\u001b[0m\n",
      "\u001b[0;31mNameError\u001b[0m: name 'prnt' is not defined"
     ]
    }
   ],
   "source": [
    "exec(a)"
   ]
  },
  {
   "cell_type": "code",
   "execution_count": null,
   "id": "420aa81d-0c49-40f4-8c7e-ac239b2e0f23",
   "metadata": {},
   "outputs": [],
   "source": []
  }
 ],
 "metadata": {
  "kernelspec": {
   "display_name": "Python 3 (ipykernel)",
   "language": "python",
   "name": "python3"
  },
  "language_info": {
   "codemirror_mode": {
    "name": "ipython",
    "version": 3
   },
   "file_extension": ".py",
   "mimetype": "text/x-python",
   "name": "python",
   "nbconvert_exporter": "python",
   "pygments_lexer": "ipython3",
   "version": "3.10.16"
  }
 },
 "nbformat": 4,
 "nbformat_minor": 5
}
